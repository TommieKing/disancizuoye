{
 "cells": [
  {
   "cell_type": "code",
   "execution_count": 1,
   "metadata": {},
   "outputs": [],
   "source": [
    "import pymysql"
   ]
  },
  {
   "cell_type": "code",
   "execution_count": 2,
   "metadata": {},
   "outputs": [],
   "source": [
    "conn = pymysql.connect(\n",
    "    host=\"localhost\",\n",
    "    user=\"root\",\n",
    "    password=\"000123\",\n",
    "    database=\"qg\",\n",
    "    charset=\"utf8\")\n",
    "cursor = conn.cursor()"
   ]
  },
  {
   "cell_type": "code",
   "execution_count": 3,
   "metadata": {},
   "outputs": [
    {
     "name": "stdout",
     "output_type": "stream",
     "text": [
      "(1050, \"Table 'qgp' already exists\")\n"
     ]
    }
   ],
   "source": [
    "sql = \"\"\"\n",
    "    CREATE TABLE QGP (\n",
    "    id INT auto_increment PRIMARY KEY ,\n",
    "    name VARCHAR(100) NOT NULL ,\n",
    "    home VARCHAR(100) NOT NULL ,\n",
    "    sex VARCHAR(100) NOT NULL ,\n",
    "    age TINYINT NOT NULL\n",
    "    )\n",
    "\"\"\"\n",
    "try:\n",
    "    cursor.execute(sql)\n",
    "except Exception as e:\n",
    "    print(e)\n",
    "    # 发生错误则回滚\n",
    "    conn.rollback()"
   ]
  },
  {
   "cell_type": "code",
   "execution_count": 39,
   "metadata": {},
   "outputs": [
    {
     "name": "stdout",
     "output_type": "stream",
     "text": [
      "(1062, \"Duplicate entry 'male' for key 'qgp.sex'\")\n"
     ]
    }
   ],
   "source": [
    "#INSERT INTO\n",
    "sql = \"\"\"\n",
    "    INSERT INTO QGP(name,home,sex,age)\n",
    "    VALUES(%s, %s,%s, %s)\n",
    "\"\"\"\n",
    "data = [\n",
    "    (\"Yanggan Gu\",\"Foshan\",\"male\", 20),\n",
    "    (\"Weile Li\",\"Guangzhou\",\"male\", 19),\n",
    "    (\"Jiongcheng Lin\",\"Guangzhou\",\"male\", 18),\n",
    "    (\"Zhengting Huang\",\"Dongguan\",\"female\", 17)\n",
    "]\n",
    "try:\n",
    "    # 执行sql语句\n",
    "    cursor.executemany(sql, data)\n",
    "    # 提交执行\n",
    "    conn.commit()\n",
    "except Exception as e:\n",
    "    print(e)\n",
    "    # 发生错误则回滚\n",
    "    conn.rollback()"
   ]
  },
  {
   "cell_type": "code",
   "execution_count": null,
   "metadata": {},
   "outputs": [],
   "source": []
  },
  {
   "cell_type": "code",
   "execution_count": 5,
   "metadata": {},
   "outputs": [
    {
     "name": "stdout",
     "output_type": "stream",
     "text": [
      "()\n"
     ]
    }
   ],
   "source": [
    "#SELECT\n",
    "sql = \"SELECT * FROM QGP \"\n",
    "try:\n",
    "   # 执行SQL语句\n",
    "   cursor.execute(sql)\n",
    "   # 获取所有记录列表\n",
    "   results = cursor.fetchall()\n",
    "   print(results)\n",
    "   for row in results:\n",
    "      id = row[0]\n",
    "      name = row[1]\n",
    "      home = row[2]\n",
    "      sex = row[3]\n",
    "      age = row[4]\n",
    "       # 打印结果\n",
    "      \n",
    "      print (\"id:%s,name:%s,home:%s,sex:%s,age=%d\" % \\\n",
    "              (id, name,home,sex, age))\n",
    "     \n",
    "except Exception as e:\n",
    "    print(e)\n",
    "    print (\"Error: unable to fetch data\")"
   ]
  },
  {
   "cell_type": "code",
   "execution_count": 17,
   "metadata": {},
   "outputs": [],
   "source": [
    "#UPDATE\n",
    "sql = \"UPDATE QGP SET AGE = AGE + 1,HOME ='Weifang'  WHERE name = 'Weile'\"\n",
    "try:\n",
    "   # 执行SQL语句\n",
    "   cursor.execute(sql)\n",
    "   # 提交到数据库执行\n",
    "   conn.commit()\n",
    "except Exception as e:\n",
    "   print(e)\n",
    "   # 发生错误时回滚\n",
    "   conn.rollback()"
   ]
  },
  {
   "cell_type": "code",
   "execution_count": 19,
   "metadata": {},
   "outputs": [],
   "source": [
    "# DELETE\n",
    "sql = \"DELETE FROM QGP WHERE AGE = 19\" \n",
    "try:\n",
    "   # 执行SQL语句\n",
    "   cursor.execute(sql)\n",
    "   # 提交修改\n",
    "   conn.commit()\n",
    "except Exception as e:\n",
    "    print(e)\n",
    "   # 发生错误时回滚\n",
    "    conn.rollback()"
   ]
  },
  {
   "cell_type": "code",
   "execution_count": 23,
   "metadata": {},
   "outputs": [],
   "source": [
    "#ORDER BY\n",
    "sql=\"SELECT * FROM QGP ORDER BY AGE\"\n",
    "try:\n",
    "   # 执行SQL语句\n",
    "   cursor.execute(sql)\n",
    "   # 提交到数据库执行\n",
    "   conn.commit()\n",
    "except Exception as e:\n",
    "   print(e)\n",
    "   # 发生错误时回滚\n",
    "   conn.rollback()"
   ]
  },
  {
   "cell_type": "code",
   "execution_count": 9,
   "metadata": {},
   "outputs": [
    {
     "name": "stdout",
     "output_type": "stream",
     "text": [
      "()\n"
     ]
    }
   ],
   "source": [
    "#AND & OR\n",
    "sql=\"SELECT * FROM QGP WHERE HOME='Guangzhou' AND AGE > 18\"\n",
    "try:\n",
    "   # 执行SQL语句\n",
    "   cursor.execute(sql)\n",
    "   # 获取所有记录列表\n",
    "   results = cursor.fetchall()\n",
    "   print(results)\n",
    "   for row in results:\n",
    "      id = row[0]\n",
    "      name = row[1]\n",
    "      home = row[2]\n",
    "      sex = row[3]\n",
    "      age = row[4]\n",
    "       # 打印结果\n",
    "      \n",
    "      print (\"id:%s,name:%s,home:%s,sex:%s,age=%d\" % \\\n",
    "              (id, name,home,sex, age))\n",
    "     \n",
    "except Exception as e:\n",
    "    print(e)\n",
    "    print (\"Error: unable to fetch data\")\n"
   ]
  },
  {
   "cell_type": "code",
   "execution_count": 10,
   "metadata": {},
   "outputs": [
    {
     "name": "stdout",
     "output_type": "stream",
     "text": [
      "()\n"
     ]
    }
   ],
   "source": [
    "#SELECT DISTINCT\n",
    "sql=\"SELECT DISTINCT HOME FROM QGP\"\n",
    "try:\n",
    "   # 执行SQL语句\n",
    "   cursor.execute(sql)\n",
    "   # 获取所有记录列表\n",
    "   results = cursor.fetchall()\n",
    "   print(results)\n",
    "   for row in results:\n",
    "      id = row[0]\n",
    "      name = row[1]\n",
    "      home = row[2]\n",
    "      sex = row[3]\n",
    "      age = row[4]\n",
    "       # 打印结果\n",
    "      \n",
    "      print (\"id:%s,name:%s,home:%s,sex:%s,age=%d\" % \\\n",
    "              (id, name,home,sex, age))\n",
    "     \n",
    "except Exception as e:\n",
    "    print(e)\n",
    "    print (\"Error: unable to fetch data\")"
   ]
  }
 ],
 "metadata": {
  "kernelspec": {
   "display_name": "Python 3",
   "language": "python",
   "name": "python3"
  },
  "language_info": {
   "codemirror_mode": {
    "name": "ipython",
    "version": 3
   },
   "file_extension": ".py",
   "mimetype": "text/x-python",
   "name": "python",
   "nbconvert_exporter": "python",
   "pygments_lexer": "ipython3",
   "version": "3.7.6"
  }
 },
 "nbformat": 4,
 "nbformat_minor": 4
}
